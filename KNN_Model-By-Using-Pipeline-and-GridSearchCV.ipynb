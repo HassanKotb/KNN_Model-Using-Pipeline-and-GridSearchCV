{
 "cells": [
  {
   "cell_type": "markdown",
   "id": "95ac1693",
   "metadata": {},
   "source": [
    "##### Traing project , Using Data set for sonar waves to detect whether the object is Rock or Mine\n",
    "##### I will use KNN-Model\n",
    "##### I will also work with Pipeline and Grid Search CV \n",
    "##### Dataset copyright by Pierian Data Inc."
   ]
  },
  {
   "cell_type": "code",
   "execution_count": 1,
   "id": "77a7871f",
   "metadata": {},
   "outputs": [],
   "source": [
    "import pandas as pd\n",
    "import numpy as np\n",
    "import matplotlib.pyplot as plt \n",
    "import seaborn as sns"
   ]
  },
  {
   "cell_type": "code",
   "execution_count": 2,
   "id": "9698da77",
   "metadata": {},
   "outputs": [],
   "source": [
    "# Importing the data"
   ]
  },
  {
   "cell_type": "code",
   "execution_count": 3,
   "id": "4e029b21",
   "metadata": {},
   "outputs": [],
   "source": [
    "df = pd.read_csv('sonar.all-data.csv')"
   ]
  },
  {
   "cell_type": "code",
   "execution_count": 4,
   "id": "1c2d961b",
   "metadata": {},
   "outputs": [],
   "source": [
    "# Data exploration"
   ]
  },
  {
   "cell_type": "code",
   "execution_count": 5,
   "id": "18cf0d12",
   "metadata": {
    "scrolled": false
   },
   "outputs": [
    {
     "data": {
      "text/html": [
       "<div>\n",
       "<style scoped>\n",
       "    .dataframe tbody tr th:only-of-type {\n",
       "        vertical-align: middle;\n",
       "    }\n",
       "\n",
       "    .dataframe tbody tr th {\n",
       "        vertical-align: top;\n",
       "    }\n",
       "\n",
       "    .dataframe thead th {\n",
       "        text-align: right;\n",
       "    }\n",
       "</style>\n",
       "<table border=\"1\" class=\"dataframe\">\n",
       "  <thead>\n",
       "    <tr style=\"text-align: right;\">\n",
       "      <th></th>\n",
       "      <th>Freq_1</th>\n",
       "      <th>Freq_2</th>\n",
       "      <th>Freq_3</th>\n",
       "      <th>Freq_4</th>\n",
       "      <th>Freq_5</th>\n",
       "      <th>Freq_6</th>\n",
       "      <th>Freq_7</th>\n",
       "      <th>Freq_8</th>\n",
       "      <th>Freq_9</th>\n",
       "      <th>Freq_10</th>\n",
       "      <th>...</th>\n",
       "      <th>Freq_52</th>\n",
       "      <th>Freq_53</th>\n",
       "      <th>Freq_54</th>\n",
       "      <th>Freq_55</th>\n",
       "      <th>Freq_56</th>\n",
       "      <th>Freq_57</th>\n",
       "      <th>Freq_58</th>\n",
       "      <th>Freq_59</th>\n",
       "      <th>Freq_60</th>\n",
       "      <th>Label</th>\n",
       "    </tr>\n",
       "  </thead>\n",
       "  <tbody>\n",
       "    <tr>\n",
       "      <th>0</th>\n",
       "      <td>0.0200</td>\n",
       "      <td>0.0371</td>\n",
       "      <td>0.0428</td>\n",
       "      <td>0.0207</td>\n",
       "      <td>0.0954</td>\n",
       "      <td>0.0986</td>\n",
       "      <td>0.1539</td>\n",
       "      <td>0.1601</td>\n",
       "      <td>0.3109</td>\n",
       "      <td>0.2111</td>\n",
       "      <td>...</td>\n",
       "      <td>0.0027</td>\n",
       "      <td>0.0065</td>\n",
       "      <td>0.0159</td>\n",
       "      <td>0.0072</td>\n",
       "      <td>0.0167</td>\n",
       "      <td>0.0180</td>\n",
       "      <td>0.0084</td>\n",
       "      <td>0.0090</td>\n",
       "      <td>0.0032</td>\n",
       "      <td>R</td>\n",
       "    </tr>\n",
       "    <tr>\n",
       "      <th>1</th>\n",
       "      <td>0.0453</td>\n",
       "      <td>0.0523</td>\n",
       "      <td>0.0843</td>\n",
       "      <td>0.0689</td>\n",
       "      <td>0.1183</td>\n",
       "      <td>0.2583</td>\n",
       "      <td>0.2156</td>\n",
       "      <td>0.3481</td>\n",
       "      <td>0.3337</td>\n",
       "      <td>0.2872</td>\n",
       "      <td>...</td>\n",
       "      <td>0.0084</td>\n",
       "      <td>0.0089</td>\n",
       "      <td>0.0048</td>\n",
       "      <td>0.0094</td>\n",
       "      <td>0.0191</td>\n",
       "      <td>0.0140</td>\n",
       "      <td>0.0049</td>\n",
       "      <td>0.0052</td>\n",
       "      <td>0.0044</td>\n",
       "      <td>R</td>\n",
       "    </tr>\n",
       "    <tr>\n",
       "      <th>2</th>\n",
       "      <td>0.0262</td>\n",
       "      <td>0.0582</td>\n",
       "      <td>0.1099</td>\n",
       "      <td>0.1083</td>\n",
       "      <td>0.0974</td>\n",
       "      <td>0.2280</td>\n",
       "      <td>0.2431</td>\n",
       "      <td>0.3771</td>\n",
       "      <td>0.5598</td>\n",
       "      <td>0.6194</td>\n",
       "      <td>...</td>\n",
       "      <td>0.0232</td>\n",
       "      <td>0.0166</td>\n",
       "      <td>0.0095</td>\n",
       "      <td>0.0180</td>\n",
       "      <td>0.0244</td>\n",
       "      <td>0.0316</td>\n",
       "      <td>0.0164</td>\n",
       "      <td>0.0095</td>\n",
       "      <td>0.0078</td>\n",
       "      <td>R</td>\n",
       "    </tr>\n",
       "    <tr>\n",
       "      <th>3</th>\n",
       "      <td>0.0100</td>\n",
       "      <td>0.0171</td>\n",
       "      <td>0.0623</td>\n",
       "      <td>0.0205</td>\n",
       "      <td>0.0205</td>\n",
       "      <td>0.0368</td>\n",
       "      <td>0.1098</td>\n",
       "      <td>0.1276</td>\n",
       "      <td>0.0598</td>\n",
       "      <td>0.1264</td>\n",
       "      <td>...</td>\n",
       "      <td>0.0121</td>\n",
       "      <td>0.0036</td>\n",
       "      <td>0.0150</td>\n",
       "      <td>0.0085</td>\n",
       "      <td>0.0073</td>\n",
       "      <td>0.0050</td>\n",
       "      <td>0.0044</td>\n",
       "      <td>0.0040</td>\n",
       "      <td>0.0117</td>\n",
       "      <td>R</td>\n",
       "    </tr>\n",
       "    <tr>\n",
       "      <th>4</th>\n",
       "      <td>0.0762</td>\n",
       "      <td>0.0666</td>\n",
       "      <td>0.0481</td>\n",
       "      <td>0.0394</td>\n",
       "      <td>0.0590</td>\n",
       "      <td>0.0649</td>\n",
       "      <td>0.1209</td>\n",
       "      <td>0.2467</td>\n",
       "      <td>0.3564</td>\n",
       "      <td>0.4459</td>\n",
       "      <td>...</td>\n",
       "      <td>0.0031</td>\n",
       "      <td>0.0054</td>\n",
       "      <td>0.0105</td>\n",
       "      <td>0.0110</td>\n",
       "      <td>0.0015</td>\n",
       "      <td>0.0072</td>\n",
       "      <td>0.0048</td>\n",
       "      <td>0.0107</td>\n",
       "      <td>0.0094</td>\n",
       "      <td>R</td>\n",
       "    </tr>\n",
       "  </tbody>\n",
       "</table>\n",
       "<p>5 rows × 61 columns</p>\n",
       "</div>"
      ],
      "text/plain": [
       "   Freq_1  Freq_2  Freq_3  Freq_4  Freq_5  Freq_6  Freq_7  Freq_8  Freq_9  \\\n",
       "0  0.0200  0.0371  0.0428  0.0207  0.0954  0.0986  0.1539  0.1601  0.3109   \n",
       "1  0.0453  0.0523  0.0843  0.0689  0.1183  0.2583  0.2156  0.3481  0.3337   \n",
       "2  0.0262  0.0582  0.1099  0.1083  0.0974  0.2280  0.2431  0.3771  0.5598   \n",
       "3  0.0100  0.0171  0.0623  0.0205  0.0205  0.0368  0.1098  0.1276  0.0598   \n",
       "4  0.0762  0.0666  0.0481  0.0394  0.0590  0.0649  0.1209  0.2467  0.3564   \n",
       "\n",
       "   Freq_10  ...  Freq_52  Freq_53  Freq_54  Freq_55  Freq_56  Freq_57  \\\n",
       "0   0.2111  ...   0.0027   0.0065   0.0159   0.0072   0.0167   0.0180   \n",
       "1   0.2872  ...   0.0084   0.0089   0.0048   0.0094   0.0191   0.0140   \n",
       "2   0.6194  ...   0.0232   0.0166   0.0095   0.0180   0.0244   0.0316   \n",
       "3   0.1264  ...   0.0121   0.0036   0.0150   0.0085   0.0073   0.0050   \n",
       "4   0.4459  ...   0.0031   0.0054   0.0105   0.0110   0.0015   0.0072   \n",
       "\n",
       "   Freq_58  Freq_59  Freq_60  Label  \n",
       "0   0.0084   0.0090   0.0032      R  \n",
       "1   0.0049   0.0052   0.0044      R  \n",
       "2   0.0164   0.0095   0.0078      R  \n",
       "3   0.0044   0.0040   0.0117      R  \n",
       "4   0.0048   0.0107   0.0094      R  \n",
       "\n",
       "[5 rows x 61 columns]"
      ]
     },
     "execution_count": 5,
     "metadata": {},
     "output_type": "execute_result"
    }
   ],
   "source": [
    "df.head()"
   ]
  },
  {
   "cell_type": "code",
   "execution_count": 6,
   "id": "5453d181",
   "metadata": {},
   "outputs": [
    {
     "name": "stdout",
     "output_type": "stream",
     "text": [
      "<class 'pandas.core.frame.DataFrame'>\n",
      "RangeIndex: 208 entries, 0 to 207\n",
      "Data columns (total 61 columns):\n",
      " #   Column   Non-Null Count  Dtype  \n",
      "---  ------   --------------  -----  \n",
      " 0   Freq_1   208 non-null    float64\n",
      " 1   Freq_2   208 non-null    float64\n",
      " 2   Freq_3   208 non-null    float64\n",
      " 3   Freq_4   208 non-null    float64\n",
      " 4   Freq_5   208 non-null    float64\n",
      " 5   Freq_6   208 non-null    float64\n",
      " 6   Freq_7   208 non-null    float64\n",
      " 7   Freq_8   208 non-null    float64\n",
      " 8   Freq_9   208 non-null    float64\n",
      " 9   Freq_10  208 non-null    float64\n",
      " 10  Freq_11  208 non-null    float64\n",
      " 11  Freq_12  208 non-null    float64\n",
      " 12  Freq_13  208 non-null    float64\n",
      " 13  Freq_14  208 non-null    float64\n",
      " 14  Freq_15  208 non-null    float64\n",
      " 15  Freq_16  208 non-null    float64\n",
      " 16  Freq_17  208 non-null    float64\n",
      " 17  Freq_18  208 non-null    float64\n",
      " 18  Freq_19  208 non-null    float64\n",
      " 19  Freq_20  208 non-null    float64\n",
      " 20  Freq_21  208 non-null    float64\n",
      " 21  Freq_22  208 non-null    float64\n",
      " 22  Freq_23  208 non-null    float64\n",
      " 23  Freq_24  208 non-null    float64\n",
      " 24  Freq_25  208 non-null    float64\n",
      " 25  Freq_26  208 non-null    float64\n",
      " 26  Freq_27  208 non-null    float64\n",
      " 27  Freq_28  208 non-null    float64\n",
      " 28  Freq_29  208 non-null    float64\n",
      " 29  Freq_30  208 non-null    float64\n",
      " 30  Freq_31  208 non-null    float64\n",
      " 31  Freq_32  208 non-null    float64\n",
      " 32  Freq_33  208 non-null    float64\n",
      " 33  Freq_34  208 non-null    float64\n",
      " 34  Freq_35  208 non-null    float64\n",
      " 35  Freq_36  208 non-null    float64\n",
      " 36  Freq_37  208 non-null    float64\n",
      " 37  Freq_38  208 non-null    float64\n",
      " 38  Freq_39  208 non-null    float64\n",
      " 39  Freq_40  208 non-null    float64\n",
      " 40  Freq_41  208 non-null    float64\n",
      " 41  Freq_42  208 non-null    float64\n",
      " 42  Freq_43  208 non-null    float64\n",
      " 43  Freq_44  208 non-null    float64\n",
      " 44  Freq_45  208 non-null    float64\n",
      " 45  Freq_46  208 non-null    float64\n",
      " 46  Freq_47  208 non-null    float64\n",
      " 47  Freq_48  208 non-null    float64\n",
      " 48  Freq_49  208 non-null    float64\n",
      " 49  Freq_50  208 non-null    float64\n",
      " 50  Freq_51  208 non-null    float64\n",
      " 51  Freq_52  208 non-null    float64\n",
      " 52  Freq_53  208 non-null    float64\n",
      " 53  Freq_54  208 non-null    float64\n",
      " 54  Freq_55  208 non-null    float64\n",
      " 55  Freq_56  208 non-null    float64\n",
      " 56  Freq_57  208 non-null    float64\n",
      " 57  Freq_58  208 non-null    float64\n",
      " 58  Freq_59  208 non-null    float64\n",
      " 59  Freq_60  208 non-null    float64\n",
      " 60  Label    208 non-null    object \n",
      "dtypes: float64(60), object(1)\n",
      "memory usage: 99.2+ KB\n"
     ]
    }
   ],
   "source": [
    "df.info()"
   ]
  },
  {
   "cell_type": "code",
   "execution_count": 7,
   "id": "351ed0a3",
   "metadata": {},
   "outputs": [
    {
     "data": {
      "text/plain": [
       "<AxesSubplot:>"
      ]
     },
     "execution_count": 7,
     "metadata": {},
     "output_type": "execute_result"
    },
    {
     "data": {
      "image/png": "[encoded data removed]",
      "text/plain": [
       "<Figure size 720x720 with 2 Axes>"
      ]
     },
     "metadata": {
      "needs_background": "light"
     },
     "output_type": "display_data"
    }
   ],
   "source": [
    "plt.figure(figsize=(10,10))\n",
    "sns.heatmap(df.corr(),cmap='Reds')"
   ]
  },
  {
   "cell_type": "code",
   "execution_count": 8,
   "id": "3d9aabcf",
   "metadata": {},
   "outputs": [
    {
     "data": {
      "text/plain": [
       "Index(['Freq_1', 'Freq_2', 'Freq_3', 'Freq_4', 'Freq_5', 'Freq_6', 'Freq_7',\n",
       "       'Freq_8', 'Freq_9', 'Freq_10', 'Freq_11', 'Freq_12', 'Freq_13',\n",
       "       'Freq_14', 'Freq_15', 'Freq_16', 'Freq_17', 'Freq_18', 'Freq_19',\n",
       "       'Freq_20', 'Freq_21', 'Freq_22', 'Freq_23', 'Freq_24', 'Freq_25',\n",
       "       'Freq_26', 'Freq_27', 'Freq_28', 'Freq_29', 'Freq_30', 'Freq_31',\n",
       "       'Freq_32', 'Freq_33', 'Freq_34', 'Freq_35', 'Freq_36', 'Freq_37',\n",
       "       'Freq_38', 'Freq_39', 'Freq_40', 'Freq_41', 'Freq_42', 'Freq_43',\n",
       "       'Freq_44', 'Freq_45', 'Freq_46', 'Freq_47', 'Freq_48', 'Freq_49',\n",
       "       'Freq_50', 'Freq_51', 'Freq_52', 'Freq_53', 'Freq_54', 'Freq_55',\n",
       "       'Freq_56', 'Freq_57', 'Freq_58', 'Freq_59', 'Freq_60', 'Label'],\n",
       "      dtype='object')"
      ]
     },
     "execution_count": 8,
     "metadata": {},
     "output_type": "execute_result"
    }
   ],
   "source": [
    "df.columns"
   ]
  },
  {
   "cell_type": "code",
   "execution_count": 9,
   "id": "2ff12a06",
   "metadata": {},
   "outputs": [],
   "source": [
    "# Spliting the features and Label\n",
    "X=df.drop('Label',axis =1)\n",
    "y=df.Label"
   ]
  },
  {
   "cell_type": "code",
   "execution_count": 10,
   "id": "825f5865",
   "metadata": {},
   "outputs": [],
   "source": [
    "# Spliting the training data-set and test data-set\n",
    "from sklearn.model_selection import train_test_split\n",
    "X_train,X_test,y_train,y_test = train_test_split(X,y,test_size=0.1,random_state=42)"
   ]
  },
  {
   "cell_type": "code",
   "execution_count": 11,
   "id": "3edb9f38",
   "metadata": {},
   "outputs": [],
   "source": [
    "#Cearting a Pipeline has Standardizing object and the KNN model"
   ]
  },
  {
   "cell_type": "code",
   "execution_count": 12,
   "id": "12e5eed4",
   "metadata": {},
   "outputs": [
    {
     "data": {
      "text/plain": [
       "Pipeline(steps=[('Scaler', StandardScaler()),\n",
       "                ('KNN_Model', KNeighborsClassifier())])"
      ]
     },
     "execution_count": 12,
     "metadata": {},
     "output_type": "execute_result"
    }
   ],
   "source": [
    "from sklearn.preprocessing import StandardScaler\n",
    "sc=StandardScaler()\n",
    "from sklearn.neighbors import KNeighborsClassifier\n",
    "knn=KNeighborsClassifier()\n",
    "from sklearn.pipeline import Pipeline\n",
    "\n",
    "\n",
    "steps = [('Scaler',sc),\n",
    "         ('KNN_Model',knn)]\n",
    "Pipe = Pipeline(steps =steps)\n",
    "Pipe.fit(X_train,y_train)"
   ]
  },
  {
   "cell_type": "code",
   "execution_count": 13,
   "id": "e76840d3",
   "metadata": {},
   "outputs": [],
   "source": [
    "#Making a grid search cv model to check the performance of each k value"
   ]
  },
  {
   "cell_type": "code",
   "execution_count": 14,
   "id": "b32e7a06",
   "metadata": {},
   "outputs": [],
   "source": [
    "from sklearn.model_selection import GridSearchCV\n",
    "\n",
    "param_grid = {'KNN_Model__n_neighbors':list(range(1,40))}\n",
    "grid_model = GridSearchCV(estimator=Pipe,\n",
    "    param_grid=param_grid,\n",
    "    scoring='accuracy',\n",
    "    cv=5,\n",
    "    verbose=2)"
   ]
  },
  {
   "cell_type": "code",
   "execution_count": 15,
   "id": "b6ddbe5e",
   "metadata": {},
   "outputs": [
    {
     "name": "stdout",
     "output_type": "stream",
     "text": [
      "Fitting 5 folds for each of 39 candidates, totalling 195 fits\n",
      "[CV] END ...........................KNN_Model__n_neighbors=1; total time=   0.0s\n",
      "[CV] END ...........................KNN_Model__n_neighbors=1; total time=   0.0s\n",
      "[CV] END ...........................KNN_Model__n_neighbors=1; total time=   0.0s\n",
      "[CV] END ...........................KNN_Model__n_neighbors=1; total time=   0.0s\n",
      "[CV] END ...........................KNN_Model__n_neighbors=1; total time=   0.0s\n",
      "[CV] END ...........................KNN_Model__n_neighbors=2; total time=   0.0s\n",
      "[CV] END ...........................KNN_Model__n_neighbors=2; total time=   0.0s\n",
      "[CV] END ...........................KNN_Model__n_neighbors=2; total time=   0.0s\n",
      "[CV] END ...........................KNN_Model__n_neighbors=2; total time=   0.0s\n",
      "[CV] END ...........................KNN_Model__n_neighbors=2; total time=   0.0s\n",
      "[CV] END ...........................KNN_Model__n_neighbors=3; total time=   0.0s\n",
      "[CV] END ...........................KNN_Model__n_neighbors=3; total time=   0.0s\n",
      "[CV] END ...........................KNN_Model__n_neighbors=3; total time=   0.0s\n",
      "[CV] END ...........................KNN_Model__n_neighbors=3; total time=   0.0s\n",
      "[CV] END ...........................KNN_Model__n_neighbors=3; total time=   0.0s\n",
      "[CV] END ...........................KNN_Model__n_neighbors=4; total time=   0.0s\n",
      "[CV] END ...........................KNN_Model__n_neighbors=4; total time=   0.0s\n",
      "[CV] END ...........................KNN_Model__n_neighbors=4; total time=   0.0s\n",
      "[CV] END ...........................KNN_Model__n_neighbors=4; total time=   0.0s\n",
      "[CV] END ...........................KNN_Model__n_neighbors=4; total time=   0.0s\n",
      "[CV] END ...........................KNN_Model__n_neighbors=5; total time=   0.0s\n",
      "[CV] END ...........................KNN_Model__n_neighbors=5; total time=   0.0s\n",
      "[CV] END ...........................KNN_Model__n_neighbors=5; total time=   0.0s\n",
      "[CV] END ...........................KNN_Model__n_neighbors=5; total time=   0.0s\n",
      "[CV] END ...........................KNN_Model__n_neighbors=5; total time=   0.0s\n",
      "[CV] END ...........................KNN_Model__n_neighbors=6; total time=   0.0s\n",
      "[CV] END ...........................KNN_Model__n_neighbors=6; total time=   0.0s\n",
      "[CV] END ...........................KNN_Model__n_neighbors=6; total time=   0.0s\n",
      "[CV] END ...........................KNN_Model__n_neighbors=6; total time=   0.0s\n",
      "[CV] END ...........................KNN_Model__n_neighbors=6; total time=   0.0s\n",
      "[CV] END ...........................KNN_Model__n_neighbors=7; total time=   0.0s\n",
      "[CV] END ...........................KNN_Model__n_neighbors=7; total time=   0.0s\n",
      "[CV] END ...........................KNN_Model__n_neighbors=7; total time=   0.0s\n",
      "[CV] END ...........................KNN_Model__n_neighbors=7; total time=   0.0s\n",
      "[CV] END ...........................KNN_Model__n_neighbors=7; total time=   0.0s\n",
      "[CV] END ...........................KNN_Model__n_neighbors=8; total time=   0.0s\n",
      "[CV] END ...........................KNN_Model__n_neighbors=8; total time=   0.0s\n",
      "[CV] END ...........................KNN_Model__n_neighbors=8; total time=   0.0s\n",
      "[CV] END ...........................KNN_Model__n_neighbors=8; total time=   0.0s\n",
      "[CV] END ...........................KNN_Model__n_neighbors=8; total time=   0.0s\n",
      "[CV] END ...........................KNN_Model__n_neighbors=9; total time=   0.0s\n",
      "[CV] END ...........................KNN_Model__n_neighbors=9; total time=   0.0s\n",
      "[CV] END ...........................KNN_Model__n_neighbors=9; total time=   0.0s\n",
      "[CV] END ...........................KNN_Model__n_neighbors=9; total time=   0.0s\n",
      "[CV] END ...........................KNN_Model__n_neighbors=9; total time=   0.0s\n",
      "[CV] END ..........................KNN_Model__n_neighbors=10; total time=   0.0s\n",
      "[CV] END ..........................KNN_Model__n_neighbors=10; total time=   0.0s\n",
      "[CV] END ..........................KNN_Model__n_neighbors=10; total time=   0.0s\n",
      "[CV] END ..........................KNN_Model__n_neighbors=10; total time=   0.0s\n",
      "[CV] END ..........................KNN_Model__n_neighbors=10; total time=   0.0s\n",
      "[CV] END ..........................KNN_Model__n_neighbors=11; total time=   0.0s\n",
      "[CV] END ..........................KNN_Model__n_neighbors=11; total time=   0.0s\n",
      "[CV] END ..........................KNN_Model__n_neighbors=11; total time=   0.0s\n",
      "[CV] END ..........................KNN_Model__n_neighbors=11; total time=   0.0s\n",
      "[CV] END ..........................KNN_Model__n_neighbors=11; total time=   0.0s\n",
      "[CV] END ..........................KNN_Model__n_neighbors=12; total time=   0.0s\n",
      "[CV] END ..........................KNN_Model__n_neighbors=12; total time=   0.0s\n",
      "[CV] END ..........................KNN_Model__n_neighbors=12; total time=   0.0s\n",
      "[CV] END ..........................KNN_Model__n_neighbors=12; total time=   0.0s\n",
      "[CV] END ..........................KNN_Model__n_neighbors=12; total time=   0.0s\n",
      "[CV] END ..........................KNN_Model__n_neighbors=13; total time=   0.0s\n",
      "[CV] END ..........................KNN_Model__n_neighbors=13; total time=   0.0s\n",
      "[CV] END ..........................KNN_Model__n_neighbors=13; total time=   0.0s\n",
      "[CV] END ..........................KNN_Model__n_neighbors=13; total time=   0.0s\n",
      "[CV] END ..........................KNN_Model__n_neighbors=13; total time=   0.0s\n",
      "[CV] END ..........................KNN_Model__n_neighbors=14; total time=   0.0s\n",
      "[CV] END ..........................KNN_Model__n_neighbors=14; total time=   0.0s\n",
      "[CV] END ..........................KNN_Model__n_neighbors=14; total time=   0.0s\n",
      "[CV] END ..........................KNN_Model__n_neighbors=14; total time=   0.0s\n",
      "[CV] END ..........................KNN_Model__n_neighbors=14; total time=   0.0s\n",
      "[CV] END ..........................KNN_Model__n_neighbors=15; total time=   0.0s\n",
      "[CV] END ..........................KNN_Model__n_neighbors=15; total time=   0.0s\n",
      "[CV] END ..........................KNN_Model__n_neighbors=15; total time=   0.0s\n",
      "[CV] END ..........................KNN_Model__n_neighbors=15; total time=   0.0s\n",
      "[CV] END ..........................KNN_Model__n_neighbors=15; total time=   0.0s\n",
      "[CV] END ..........................KNN_Model__n_neighbors=16; total time=   0.0s\n",
      "[CV] END ..........................KNN_Model__n_neighbors=16; total time=   0.0s\n",
      "[CV] END ..........................KNN_Model__n_neighbors=16; total time=   0.0s\n",
      "[CV] END ..........................KNN_Model__n_neighbors=16; total time=   0.0s\n",
      "[CV] END ..........................KNN_Model__n_neighbors=16; total time=   0.0s\n",
      "[CV] END ..........................KNN_Model__n_neighbors=17; total time=   0.0s\n",
      "[CV] END ..........................KNN_Model__n_neighbors=17; total time=   0.0s\n",
      "[CV] END ..........................KNN_Model__n_neighbors=17; total time=   0.0s\n",
      "[CV] END ..........................KNN_Model__n_neighbors=17; total time=   0.0s\n",
      "[CV] END ..........................KNN_Model__n_neighbors=17; total time=   0.0s\n",
      "[CV] END ..........................KNN_Model__n_neighbors=18; total time=   0.0s\n",
      "[CV] END ..........................KNN_Model__n_neighbors=18; total time=   0.0s\n",
      "[CV] END ..........................KNN_Model__n_neighbors=18; total time=   0.0s\n",
      "[CV] END ..........................KNN_Model__n_neighbors=18; total time=   0.0s\n",
      "[CV] END ..........................KNN_Model__n_neighbors=18; total time=   0.0s\n",
      "[CV] END ..........................KNN_Model__n_neighbors=19; total time=   0.0s\n",
      "[CV] END ..........................KNN_Model__n_neighbors=19; total time=   0.0s\n",
      "[CV] END ..........................KNN_Model__n_neighbors=19; total time=   0.0s\n",
      "[CV] END ..........................KNN_Model__n_neighbors=19; total time=   0.0s\n",
      "[CV] END ..........................KNN_Model__n_neighbors=19; total time=   0.0s\n",
      "[CV] END ..........................KNN_Model__n_neighbors=20; total time=   0.0s\n",
      "[CV] END ..........................KNN_Model__n_neighbors=20; total time=   0.0s\n",
      "[CV] END ..........................KNN_Model__n_neighbors=20; total time=   0.0s\n",
      "[CV] END ..........................KNN_Model__n_neighbors=20; total time=   0.0s\n",
      "[CV] END ..........................KNN_Model__n_neighbors=20; total time=   0.0s\n",
      "[CV] END ..........................KNN_Model__n_neighbors=21; total time=   0.0s\n",
      "[CV] END ..........................KNN_Model__n_neighbors=21; total time=   0.0s\n",
      "[CV] END ..........................KNN_Model__n_neighbors=21; total time=   0.0s\n",
      "[CV] END ..........................KNN_Model__n_neighbors=21; total time=   0.0s\n",
      "[CV] END ..........................KNN_Model__n_neighbors=21; total time=   0.0s\n",
      "[CV] END ..........................KNN_Model__n_neighbors=22; total time=   0.0s\n",
      "[CV] END ..........................KNN_Model__n_neighbors=22; total time=   0.0s\n",
      "[CV] END ..........................KNN_Model__n_neighbors=22; total time=   0.0s\n",
      "[CV] END ..........................KNN_Model__n_neighbors=22; total time=   0.0s\n",
      "[CV] END ..........................KNN_Model__n_neighbors=22; total time=   0.0s\n",
      "[CV] END ..........................KNN_Model__n_neighbors=23; total time=   0.0s\n",
      "[CV] END ..........................KNN_Model__n_neighbors=23; total time=   0.0s\n",
      "[CV] END ..........................KNN_Model__n_neighbors=23; total time=   0.0s\n"
     ]
    },
    {
     "name": "stdout",
     "output_type": "stream",
     "text": [
      "[CV] END ..........................KNN_Model__n_neighbors=23; total time=   0.0s\n",
      "[CV] END ..........................KNN_Model__n_neighbors=23; total time=   0.0s\n",
      "[CV] END ..........................KNN_Model__n_neighbors=24; total time=   0.0s\n",
      "[CV] END ..........................KNN_Model__n_neighbors=24; total time=   0.0s\n",
      "[CV] END ..........................KNN_Model__n_neighbors=24; total time=   0.0s\n",
      "[CV] END ..........................KNN_Model__n_neighbors=24; total time=   0.0s\n",
      "[CV] END ..........................KNN_Model__n_neighbors=24; total time=   0.0s\n",
      "[CV] END ..........................KNN_Model__n_neighbors=25; total time=   0.0s\n",
      "[CV] END ..........................KNN_Model__n_neighbors=25; total time=   0.0s\n",
      "[CV] END ..........................KNN_Model__n_neighbors=25; total time=   0.0s\n",
      "[CV] END ..........................KNN_Model__n_neighbors=25; total time=   0.0s\n",
      "[CV] END ..........................KNN_Model__n_neighbors=25; total time=   0.0s\n",
      "[CV] END ..........................KNN_Model__n_neighbors=26; total time=   0.0s\n",
      "[CV] END ..........................KNN_Model__n_neighbors=26; total time=   0.0s\n",
      "[CV] END ..........................KNN_Model__n_neighbors=26; total time=   0.0s\n",
      "[CV] END ..........................KNN_Model__n_neighbors=26; total time=   0.0s\n",
      "[CV] END ..........................KNN_Model__n_neighbors=26; total time=   0.0s\n",
      "[CV] END ..........................KNN_Model__n_neighbors=27; total time=   0.0s\n",
      "[CV] END ..........................KNN_Model__n_neighbors=27; total time=   0.0s\n",
      "[CV] END ..........................KNN_Model__n_neighbors=27; total time=   0.0s\n",
      "[CV] END ..........................KNN_Model__n_neighbors=27; total time=   0.0s\n",
      "[CV] END ..........................KNN_Model__n_neighbors=27; total time=   0.0s\n",
      "[CV] END ..........................KNN_Model__n_neighbors=28; total time=   0.0s\n",
      "[CV] END ..........................KNN_Model__n_neighbors=28; total time=   0.0s\n",
      "[CV] END ..........................KNN_Model__n_neighbors=28; total time=   0.0s\n",
      "[CV] END ..........................KNN_Model__n_neighbors=28; total time=   0.0s\n",
      "[CV] END ..........................KNN_Model__n_neighbors=28; total time=   0.0s\n",
      "[CV] END ..........................KNN_Model__n_neighbors=29; total time=   0.0s\n",
      "[CV] END ..........................KNN_Model__n_neighbors=29; total time=   0.0s\n",
      "[CV] END ..........................KNN_Model__n_neighbors=29; total time=   0.0s\n",
      "[CV] END ..........................KNN_Model__n_neighbors=29; total time=   0.0s\n",
      "[CV] END ..........................KNN_Model__n_neighbors=29; total time=   0.0s\n",
      "[CV] END ..........................KNN_Model__n_neighbors=30; total time=   0.0s\n",
      "[CV] END ..........................KNN_Model__n_neighbors=30; total time=   0.0s\n",
      "[CV] END ..........................KNN_Model__n_neighbors=30; total time=   0.0s\n",
      "[CV] END ..........................KNN_Model__n_neighbors=30; total time=   0.0s\n",
      "[CV] END ..........................KNN_Model__n_neighbors=30; total time=   0.0s\n",
      "[CV] END ..........................KNN_Model__n_neighbors=31; total time=   0.0s\n",
      "[CV] END ..........................KNN_Model__n_neighbors=31; total time=   0.0s\n",
      "[CV] END ..........................KNN_Model__n_neighbors=31; total time=   0.0s\n",
      "[CV] END ..........................KNN_Model__n_neighbors=31; total time=   0.0s\n",
      "[CV] END ..........................KNN_Model__n_neighbors=31; total time=   0.0s\n",
      "[CV] END ..........................KNN_Model__n_neighbors=32; total time=   0.0s\n",
      "[CV] END ..........................KNN_Model__n_neighbors=32; total time=   0.0s\n",
      "[CV] END ..........................KNN_Model__n_neighbors=32; total time=   0.0s\n",
      "[CV] END ..........................KNN_Model__n_neighbors=32; total time=   0.0s\n",
      "[CV] END ..........................KNN_Model__n_neighbors=32; total time=   0.0s\n",
      "[CV] END ..........................KNN_Model__n_neighbors=33; total time=   0.0s\n",
      "[CV] END ..........................KNN_Model__n_neighbors=33; total time=   0.0s\n",
      "[CV] END ..........................KNN_Model__n_neighbors=33; total time=   0.0s\n",
      "[CV] END ..........................KNN_Model__n_neighbors=33; total time=   0.0s\n",
      "[CV] END ..........................KNN_Model__n_neighbors=33; total time=   0.0s\n",
      "[CV] END ..........................KNN_Model__n_neighbors=34; total time=   0.0s\n",
      "[CV] END ..........................KNN_Model__n_neighbors=34; total time=   0.0s\n",
      "[CV] END ..........................KNN_Model__n_neighbors=34; total time=   0.0s\n",
      "[CV] END ..........................KNN_Model__n_neighbors=34; total time=   0.0s\n",
      "[CV] END ..........................KNN_Model__n_neighbors=34; total time=   0.0s\n",
      "[CV] END ..........................KNN_Model__n_neighbors=35; total time=   0.0s\n",
      "[CV] END ..........................KNN_Model__n_neighbors=35; total time=   0.0s\n",
      "[CV] END ..........................KNN_Model__n_neighbors=35; total time=   0.0s\n",
      "[CV] END ..........................KNN_Model__n_neighbors=35; total time=   0.0s\n",
      "[CV] END ..........................KNN_Model__n_neighbors=35; total time=   0.0s\n",
      "[CV] END ..........................KNN_Model__n_neighbors=36; total time=   0.0s\n",
      "[CV] END ..........................KNN_Model__n_neighbors=36; total time=   0.0s\n",
      "[CV] END ..........................KNN_Model__n_neighbors=36; total time=   0.0s\n",
      "[CV] END ..........................KNN_Model__n_neighbors=36; total time=   0.0s\n",
      "[CV] END ..........................KNN_Model__n_neighbors=36; total time=   0.0s\n",
      "[CV] END ..........................KNN_Model__n_neighbors=37; total time=   0.0s\n",
      "[CV] END ..........................KNN_Model__n_neighbors=37; total time=   0.0s\n",
      "[CV] END ..........................KNN_Model__n_neighbors=37; total time=   0.0s\n",
      "[CV] END ..........................KNN_Model__n_neighbors=37; total time=   0.0s\n",
      "[CV] END ..........................KNN_Model__n_neighbors=37; total time=   0.0s\n",
      "[CV] END ..........................KNN_Model__n_neighbors=38; total time=   0.0s\n",
      "[CV] END ..........................KNN_Model__n_neighbors=38; total time=   0.0s\n",
      "[CV] END ..........................KNN_Model__n_neighbors=38; total time=   0.0s\n",
      "[CV] END ..........................KNN_Model__n_neighbors=38; total time=   0.0s\n",
      "[CV] END ..........................KNN_Model__n_neighbors=38; total time=   0.0s\n",
      "[CV] END ..........................KNN_Model__n_neighbors=39; total time=   0.0s\n",
      "[CV] END ..........................KNN_Model__n_neighbors=39; total time=   0.0s\n",
      "[CV] END ..........................KNN_Model__n_neighbors=39; total time=   0.0s\n",
      "[CV] END ..........................KNN_Model__n_neighbors=39; total time=   0.0s\n",
      "[CV] END ..........................KNN_Model__n_neighbors=39; total time=   0.0s\n"
     ]
    },
    {
     "data": {
      "text/plain": [
       "GridSearchCV(cv=5,\n",
       "             estimator=Pipeline(steps=[('Scaler', StandardScaler()),\n",
       "                                       ('KNN_Model', KNeighborsClassifier())]),\n",
       "             param_grid={'KNN_Model__n_neighbors': [1, 2, 3, 4, 5, 6, 7, 8, 9,\n",
       "                                                    10, 11, 12, 13, 14, 15, 16,\n",
       "                                                    17, 18, 19, 20, 21, 22, 23,\n",
       "                                                    24, 25, 26, 27, 28, 29, 30, ...]},\n",
       "             scoring='accuracy', verbose=2)"
      ]
     },
     "execution_count": 15,
     "metadata": {},
     "output_type": "execute_result"
    }
   ],
   "source": [
    "grid_model.fit(X_train,y_train)"
   ]
  },
  {
   "cell_type": "code",
   "execution_count": 16,
   "id": "89098751",
   "metadata": {},
   "outputs": [
    {
     "data": {
      "text/plain": [
       "{'memory': None,\n",
       " 'steps': [('Scaler', StandardScaler()),\n",
       "  ('KNN_Model', KNeighborsClassifier(n_neighbors=1))],\n",
       " 'verbose': False,\n",
       " 'Scaler': StandardScaler(),\n",
       " 'KNN_Model': KNeighborsClassifier(n_neighbors=1),\n",
       " 'Scaler__copy': True,\n",
       " 'Scaler__with_mean': True,\n",
       " 'Scaler__with_std': True,\n",
       " 'KNN_Model__algorithm': 'auto',\n",
       " 'KNN_Model__leaf_size': 30,\n",
       " 'KNN_Model__metric': 'minkowski',\n",
       " 'KNN_Model__metric_params': None,\n",
       " 'KNN_Model__n_jobs': None,\n",
       " 'KNN_Model__n_neighbors': 1,\n",
       " 'KNN_Model__p': 2,\n",
       " 'KNN_Model__weights': 'uniform'}"
      ]
     },
     "execution_count": 16,
     "metadata": {},
     "output_type": "execute_result"
    }
   ],
   "source": [
    "# Checking the best k for model performance\n",
    "grid_model.best_estimator_.get_params()"
   ]
  },
  {
   "cell_type": "code",
   "execution_count": 17,
   "id": "8c298587",
   "metadata": {},
   "outputs": [],
   "source": [
    "#lets make a plot to visiualize the relation between numper of k and accuracy"
   ]
  },
  {
   "cell_type": "code",
   "execution_count": 18,
   "id": "267dfb74",
   "metadata": {},
   "outputs": [
    {
     "data": {
      "text/html": [
       "<div>\n",
       "<style scoped>\n",
       "    .dataframe tbody tr th:only-of-type {\n",
       "        vertical-align: middle;\n",
       "    }\n",
       "\n",
       "    .dataframe tbody tr th {\n",
       "        vertical-align: top;\n",
       "    }\n",
       "\n",
       "    .dataframe thead th {\n",
       "        text-align: right;\n",
       "    }\n",
       "</style>\n",
       "<table border=\"1\" class=\"dataframe\">\n",
       "  <thead>\n",
       "    <tr style=\"text-align: right;\">\n",
       "      <th></th>\n",
       "      <th>mean_fit_time</th>\n",
       "      <th>std_fit_time</th>\n",
       "      <th>mean_score_time</th>\n",
       "      <th>std_score_time</th>\n",
       "      <th>param_KNN_Model__n_neighbors</th>\n",
       "      <th>params</th>\n",
       "      <th>split0_test_score</th>\n",
       "      <th>split1_test_score</th>\n",
       "      <th>split2_test_score</th>\n",
       "      <th>split3_test_score</th>\n",
       "      <th>split4_test_score</th>\n",
       "      <th>mean_test_score</th>\n",
       "      <th>std_test_score</th>\n",
       "      <th>rank_test_score</th>\n",
       "    </tr>\n",
       "  </thead>\n",
       "  <tbody>\n",
       "    <tr>\n",
       "      <th>0</th>\n",
       "      <td>0.011069</td>\n",
       "      <td>0.000303</td>\n",
       "      <td>0.007406</td>\n",
       "      <td>0.000400</td>\n",
       "      <td>1</td>\n",
       "      <td>{'KNN_Model__n_neighbors': 1}</td>\n",
       "      <td>0.894737</td>\n",
       "      <td>0.710526</td>\n",
       "      <td>0.837838</td>\n",
       "      <td>0.918919</td>\n",
       "      <td>0.864865</td>\n",
       "      <td>0.845377</td>\n",
       "      <td>0.072755</td>\n",
       "      <td>1</td>\n",
       "    </tr>\n",
       "    <tr>\n",
       "      <th>1</th>\n",
       "      <td>0.006617</td>\n",
       "      <td>0.001960</td>\n",
       "      <td>0.004282</td>\n",
       "      <td>0.000863</td>\n",
       "      <td>2</td>\n",
       "      <td>{'KNN_Model__n_neighbors': 2}</td>\n",
       "      <td>0.894737</td>\n",
       "      <td>0.684211</td>\n",
       "      <td>0.810811</td>\n",
       "      <td>0.702703</td>\n",
       "      <td>0.810811</td>\n",
       "      <td>0.780654</td>\n",
       "      <td>0.077732</td>\n",
       "      <td>2</td>\n",
       "    </tr>\n",
       "    <tr>\n",
       "      <th>2</th>\n",
       "      <td>0.006343</td>\n",
       "      <td>0.001591</td>\n",
       "      <td>0.004484</td>\n",
       "      <td>0.001021</td>\n",
       "      <td>3</td>\n",
       "      <td>{'KNN_Model__n_neighbors': 3}</td>\n",
       "      <td>0.894737</td>\n",
       "      <td>0.684211</td>\n",
       "      <td>0.783784</td>\n",
       "      <td>0.729730</td>\n",
       "      <td>0.783784</td>\n",
       "      <td>0.775249</td>\n",
       "      <td>0.070403</td>\n",
       "      <td>3</td>\n",
       "    </tr>\n",
       "    <tr>\n",
       "      <th>3</th>\n",
       "      <td>0.007415</td>\n",
       "      <td>0.001947</td>\n",
       "      <td>0.004069</td>\n",
       "      <td>0.000878</td>\n",
       "      <td>4</td>\n",
       "      <td>{'KNN_Model__n_neighbors': 4}</td>\n",
       "      <td>0.894737</td>\n",
       "      <td>0.657895</td>\n",
       "      <td>0.783784</td>\n",
       "      <td>0.702703</td>\n",
       "      <td>0.756757</td>\n",
       "      <td>0.759175</td>\n",
       "      <td>0.080542</td>\n",
       "      <td>6</td>\n",
       "    </tr>\n",
       "    <tr>\n",
       "      <th>4</th>\n",
       "      <td>0.005825</td>\n",
       "      <td>0.000726</td>\n",
       "      <td>0.005096</td>\n",
       "      <td>0.001261</td>\n",
       "      <td>5</td>\n",
       "      <td>{'KNN_Model__n_neighbors': 5}</td>\n",
       "      <td>0.894737</td>\n",
       "      <td>0.631579</td>\n",
       "      <td>0.783784</td>\n",
       "      <td>0.675676</td>\n",
       "      <td>0.810811</td>\n",
       "      <td>0.759317</td>\n",
       "      <td>0.094765</td>\n",
       "      <td>5</td>\n",
       "    </tr>\n",
       "  </tbody>\n",
       "</table>\n",
       "</div>"
      ],
      "text/plain": [
       "   mean_fit_time  std_fit_time  mean_score_time  std_score_time  \\\n",
       "0       0.011069      0.000303         0.007406        0.000400   \n",
       "1       0.006617      0.001960         0.004282        0.000863   \n",
       "2       0.006343      0.001591         0.004484        0.001021   \n",
       "3       0.007415      0.001947         0.004069        0.000878   \n",
       "4       0.005825      0.000726         0.005096        0.001261   \n",
       "\n",
       "  param_KNN_Model__n_neighbors                         params  \\\n",
       "0                            1  {'KNN_Model__n_neighbors': 1}   \n",
       "1                            2  {'KNN_Model__n_neighbors': 2}   \n",
       "2                            3  {'KNN_Model__n_neighbors': 3}   \n",
       "3                            4  {'KNN_Model__n_neighbors': 4}   \n",
       "4                            5  {'KNN_Model__n_neighbors': 5}   \n",
       "\n",
       "   split0_test_score  split1_test_score  split2_test_score  split3_test_score  \\\n",
       "0           0.894737           0.710526           0.837838           0.918919   \n",
       "1           0.894737           0.684211           0.810811           0.702703   \n",
       "2           0.894737           0.684211           0.783784           0.729730   \n",
       "3           0.894737           0.657895           0.783784           0.702703   \n",
       "4           0.894737           0.631579           0.783784           0.675676   \n",
       "\n",
       "   split4_test_score  mean_test_score  std_test_score  rank_test_score  \n",
       "0           0.864865         0.845377        0.072755                1  \n",
       "1           0.810811         0.780654        0.077732                2  \n",
       "2           0.783784         0.775249        0.070403                3  \n",
       "3           0.756757         0.759175        0.080542                6  \n",
       "4           0.810811         0.759317        0.094765                5  "
      ]
     },
     "execution_count": 18,
     "metadata": {},
     "output_type": "execute_result"
    }
   ],
   "source": [
    "pd.DataFrame(grid_model.cv_results_).head()"
   ]
  },
  {
   "cell_type": "code",
   "execution_count": 19,
   "id": "8dbad13e",
   "metadata": {},
   "outputs": [],
   "source": [
    "accuracy = pd.DataFrame(grid_model.cv_results_)[['param_KNN_Model__n_neighbors','mean_test_score']]"
   ]
  },
  {
   "cell_type": "code",
   "execution_count": 20,
   "id": "8b9403ee",
   "metadata": {},
   "outputs": [
    {
     "data": {
      "image/png": "[encoded data removed]",
      "text/plain": [
       "<Figure size 864x432 with 1 Axes>"
      ]
     },
     "metadata": {},
     "output_type": "display_data"
    }
   ],
   "source": [
    "sns.set_theme(style='dark')\n",
    "plt.figure(figsize=(12,6))\n",
    "plt.plot('param_KNN_Model__n_neighbors','mean_test_score',data = accuracy)\n",
    "plt.xlabel('Numper of k')\n",
    "plt.ylabel('Accuracy')\n",
    "\n",
    "plt.show()"
   ]
  },
  {
   "cell_type": "code",
   "execution_count": 21,
   "id": "1e4e13c0",
   "metadata": {},
   "outputs": [],
   "source": [
    "# Evaluate the performance"
   ]
  },
  {
   "cell_type": "code",
   "execution_count": 22,
   "id": "5efc2276",
   "metadata": {},
   "outputs": [],
   "source": [
    "y_pred = grid_model.predict(X_test)"
   ]
  },
  {
   "cell_type": "code",
   "execution_count": 23,
   "id": "8515c247",
   "metadata": {},
   "outputs": [
    {
     "data": {
      "text/plain": [
       "<sklearn.metrics._plot.confusion_matrix.ConfusionMatrixDisplay at 0x7f3fdb8f60a0>"
      ]
     },
     "execution_count": 23,
     "metadata": {},
     "output_type": "execute_result"
    },
    {
     "data": {
      "image/png": "[encoded data removed]",
      "text/plain": [
       "<Figure size 432x288 with 2 Axes>"
      ]
     },
     "metadata": {},
     "output_type": "display_data"
    }
   ],
   "source": [
    "# Confusion matrix\n",
    "from sklearn.metrics import plot_confusion_matrix\n",
    "plot_confusion_matrix(grid_model,X_test,y_test)"
   ]
  },
  {
   "cell_type": "code",
   "execution_count": 24,
   "id": "cd61cb59",
   "metadata": {},
   "outputs": [
    {
     "name": "stdout",
     "output_type": "stream",
     "text": [
      "              precision    recall  f1-score   support\n",
      "\n",
      "           M       0.92      0.92      0.92        13\n",
      "           R       0.88      0.88      0.88         8\n",
      "\n",
      "    accuracy                           0.90        21\n",
      "   macro avg       0.90      0.90      0.90        21\n",
      "weighted avg       0.90      0.90      0.90        21\n",
      "\n"
     ]
    }
   ],
   "source": [
    "#Acurracy , recall, precision, and F1-score\n",
    "from sklearn.metrics import classification_report\n",
    "report = classification_report(y_test,y_pred)\n",
    "print(report)"
   ]
  },
  {
   "cell_type": "code",
   "execution_count": 25,
   "id": "1bd5ad94",
   "metadata": {},
   "outputs": [
    {
     "data": {
      "text/plain": [
       "<sklearn.metrics._plot.roc_curve.RocCurveDisplay at 0x7f3fdb8521c0>"
      ]
     },
     "execution_count": 25,
     "metadata": {},
     "output_type": "execute_result"
    },
    {
     "data": {
      "image/png": "[encoded data removed]",
      "text/plain": [
       "<Figure size 432x288 with 1 Axes>"
      ]
     },
     "metadata": {},
     "output_type": "display_data"
    }
   ],
   "source": [
    "# ROC curve\n",
    "from sklearn.metrics import plot_roc_curve\n",
    "plot_roc_curve(grid_model,X_test,y_test)"
   ]
  },
  {
   "cell_type": "code",
   "execution_count": null,
   "id": "0c46bc00",
   "metadata": {},
   "outputs": [],
   "source": []
  }
 ],
 "metadata": {
  "kernelspec": {
   "display_name": "Python 3",
   "language": "python",
   "name": "python3"
  },
  "language_info": {
   "codemirror_mode": {
    "name": "ipython",
    "version": 3
   },
   "file_extension": ".py",
   "mimetype": "text/x-python",
   "name": "python",
   "nbconvert_exporter": "python",
   "pygments_lexer": "ipython3",
   "version": "3.8.8"
  }
 },
 "nbformat": 4,
 "nbformat_minor": 5
}
